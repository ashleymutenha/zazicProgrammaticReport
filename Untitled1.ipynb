{
 "cells": [
  {
   "cell_type": "code",
   "execution_count": null,
   "id": "a5c988c6-64b4-4ba1-a559-249aa0fbd8ac",
   "metadata": {},
   "outputs": [],
   "source": []
  }
 ],
 "metadata": {
  "kernelspec": {
   "display_name": "",
   "name": ""
  },
  "language_info": {
   "name": ""
  }
 },
 "nbformat": 4,
 "nbformat_minor": 5
}
